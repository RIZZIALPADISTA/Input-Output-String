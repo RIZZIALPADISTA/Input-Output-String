{
 "cells": [
  {
   "cell_type": "code",
   "execution_count": 3,
   "id": "539048ad",
   "metadata": {},
   "outputs": [
    {
     "name": "stdout",
     "output_type": "stream",
     "text": [
      "Masukan nama anda : RIZZI ALPADISTA\n",
      "Masukan tempat lahir anda : SUKABUMI\n",
      "Masukan tanggal lahir anda : 28 FEBRUARI 2003\n",
      "Masukan jenis kelamin anda : LAKI-LAKI\n",
      "Masukan alamat anda : KP. SUNGAPAN\n",
      "Masukan pekerjaan anda : PELAJAR/MAHASIWA\n",
      "\n",
      "Nama saya RIZZI ALPADISTA, lahir di SUKABUMI, tanggal 28 FEBRUARI 2003, jenis kelamin LAKI-LAKI, alamat saya di KP. SUNGAPAN, pekerjaan saya adalah PELAJAR/MAHASIWA.\n"
     ]
    }
   ],
   "source": [
    "# Biodata Sederhana\n",
    "nama = input(\"Masukan nama anda : \")\n",
    "tempat_lahir = input(\"Masukan tempat lahir anda : \")\n",
    "tanggal_lahir = input(\"Masukan tanggal lahir anda : \")\n",
    "jenis_kelamin = input(\"Masukan jenis kelamin anda : \")\n",
    "alamat = input(\"Masukan alamat anda : \")\n",
    "pekerjaan = input(\"Masukan pekerjaan anda : \")\n",
    "\n",
    "print(\"\\nNama saya {}, lahir di {}, tanggal {}, jenis kelamin {}, alamat saya di {}, pekerjaan saya adalah {}.\"\n",
    "      .format(nama, tempat_lahir, tanggal_lahir, jenis_kelamin, alamat, pekerjaan))"
   ]
  },
  {
   "cell_type": "code",
   "execution_count": 7,
   "id": "8192b829",
   "metadata": {},
   "outputs": [
    {
     "name": "stdout",
     "output_type": "stream",
     "text": [
      "putra nusa\n",
      "NIVERSITAS NSA PTRA SKABMI\n",
      "SUKABUMI PUTRA NUSA UNIVERSITAS\n",
      "UNPS\n",
      "TAS SAPU BUMI\n"
     ]
    }
   ],
   "source": [
    "kalimat = 'UNIVERSITAS NUSA PUTRA SUKABUMI'\n",
    "\n",
    "# putra nusa\n",
    "print(kalimat[17:22].lower(), kalimat[12:16].lower())\n",
    "\n",
    "# NIVERSITAS NSA PTRA SKABMI\n",
    "print(kalimat[1:11], kalimat[12:13] + kalimat[14:15] + kalimat[15:16], kalimat[17:18] + kalimat[19:20] + kalimat[20:21]\n",
    "      + kalimat[21:22],kalimat[23:24] + kalimat[25:26] + kalimat[26:27] + kalimat[27:28] + kalimat[29:31])\n",
    "\n",
    "# SUKABUMI PUTRA NUSA UNIVERSITAS\n",
    "print(kalimat[23:31], kalimat[17:22], kalimat[12:16], kalimat[0:11])\n",
    "\n",
    "# UNPS\n",
    "print(kalimat[0:1] + kalimat[12:13] + kalimat[17:18] + kalimat[23:24])\n",
    "\n",
    "# TAS SAPU BUMI\n",
    "print(kalimat[8:11], kalimat[14:16] + kalimat[17:19], kalimat[27:31])"
   ]
  },
  {
   "cell_type": "code",
   "execution_count": null,
   "id": "ff084217",
   "metadata": {},
   "outputs": [],
   "source": []
  }
 ],
 "metadata": {
  "kernelspec": {
   "display_name": "Python 3 (ipykernel)",
   "language": "python",
   "name": "python3"
  },
  "language_info": {
   "codemirror_mode": {
    "name": "ipython",
    "version": 3
   },
   "file_extension": ".py",
   "mimetype": "text/x-python",
   "name": "python",
   "nbconvert_exporter": "python",
   "pygments_lexer": "ipython3",
   "version": "3.11.5"
  }
 },
 "nbformat": 4,
 "nbformat_minor": 5
}
