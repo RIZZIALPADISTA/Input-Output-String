{
 "cells": [
  {
   "cell_type": "code",
   "execution_count": 9,
   "id": "43c57590",
   "metadata": {},
   "outputs": [
    {
     "name": "stdout",
     "output_type": "stream",
     "text": [
      "Masukan usia anak anda : 10\n",
      "Berapa tinggi badan anak anda : 155\n",
      "\n",
      "Tarif harga untuk anak berumur 10 tahun dengan tinggi 155 cm adalah : Rp80000\n"
     ]
    }
   ],
   "source": [
    "# Kondisi Percabangan\n",
    "umur = int(input(\"Masukan usia anak anda : \"))\n",
    "tinggi = int(input(\"Berapa tinggi badan anak anda : \"))\n",
    "\n",
    "tarif = 0\n",
    "\n",
    "if umur < 2:\n",
    "    print('Dilarang masuk.')\n",
    "else:\n",
    "    if umur < 4:\n",
    "        tarif = 30000\n",
    "        if umur >= 2 and tinggi > 70:\n",
    "            tarif += 10000\n",
    "    elif umur < 7:\n",
    "        tarif = 40000\n",
    "        if umur >= 4 and tinggi > 120:\n",
    "            tarif += 15000\n",
    "    elif umur < 10:\n",
    "        tarif = 50000\n",
    "        if umur >= 8 and tinggi > 150:\n",
    "            tarif += 20000\n",
    "    elif umur >= 10:\n",
    "        tarif = 80000\n",
    "        \n",
    "    print(f\"\\nTarif harga untuk anak berumur {umur} tahun dengan tinggi {tinggi} cm adalah : Rp{tarif}\")"
   ]
  },
  {
   "cell_type": "code",
   "execution_count": null,
   "id": "372ad674",
   "metadata": {},
   "outputs": [],
   "source": []
  }
 ],
 "metadata": {
  "kernelspec": {
   "display_name": "Python 3 (ipykernel)",
   "language": "python",
   "name": "python3"
  },
  "language_info": {
   "codemirror_mode": {
    "name": "ipython",
    "version": 3
   },
   "file_extension": ".py",
   "mimetype": "text/x-python",
   "name": "python",
   "nbconvert_exporter": "python",
   "pygments_lexer": "ipython3",
   "version": "3.11.5"
  }
 },
 "nbformat": 4,
 "nbformat_minor": 5
}
